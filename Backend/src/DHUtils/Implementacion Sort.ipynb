{
 "cells": [
  {
   "cell_type": "code",
   "execution_count": 14,
   "id": "130ff2d2",
   "metadata": {},
   "outputs": [
    {
     "data": {
      "text/html": [
       "<style>.container { width:100% !important; }</style>"
      ],
      "text/plain": [
       "<IPython.core.display.HTML object>"
      ]
     },
     "metadata": {},
     "output_type": "display_data"
    }
   ],
   "source": [
    "from IPython.display import display, HTML\n",
    "display(HTML(\"<style>.container { width:100% !important; }</style>\"))"
   ]
  },
  {
   "cell_type": "code",
   "execution_count": 28,
   "id": "d866e495",
   "metadata": {},
   "outputs": [],
   "source": [
    "import pandas as pd\n",
    "import numpy as np\n",
    "import jellyfish\n",
    "import dask\n",
    "import dask.array as da\n",
    "from dask import dataframe as df1\n",
    "from unidecode import unidecode\n",
    "\n",
    "import time"
   ]
  },
  {
   "cell_type": "code",
   "execution_count": 16,
   "id": "fa0a9307",
   "metadata": {
    "scrolled": false
   },
   "outputs": [],
   "source": [
    "data = df1.read_csv('WorldStreams.csv')"
   ]
  },
  {
   "cell_type": "code",
   "execution_count": 17,
   "id": "6c81f402",
   "metadata": {},
   "outputs": [
    {
     "data": {
      "text/html": [
       "<div>\n",
       "<style scoped>\n",
       "    .dataframe tbody tr th:only-of-type {\n",
       "        vertical-align: middle;\n",
       "    }\n",
       "\n",
       "    .dataframe tbody tr th {\n",
       "        vertical-align: top;\n",
       "    }\n",
       "\n",
       "    .dataframe thead th {\n",
       "        text-align: right;\n",
       "    }\n",
       "</style>\n",
       "<table border=\"1\" class=\"dataframe\">\n",
       "  <thead>\n",
       "    <tr style=\"text-align: right;\">\n",
       "      <th></th>\n",
       "      <th>geonameid</th>\n",
       "      <th>name</th>\n",
       "      <th>asciiname</th>\n",
       "      <th>latitude</th>\n",
       "      <th>longitude</th>\n",
       "      <th>timezone</th>\n",
       "      <th>country</th>\n",
       "      <th>continent</th>\n",
       "      <th>sub_region</th>\n",
       "    </tr>\n",
       "  </thead>\n",
       "  <tbody>\n",
       "    <tr>\n",
       "      <th>0</th>\n",
       "      <td>2986043</td>\n",
       "      <td>Pic de Font Blanca</td>\n",
       "      <td>Pic de Font Blanca</td>\n",
       "      <td>42.64991</td>\n",
       "      <td>1.53335</td>\n",
       "      <td>Europe/Andorra</td>\n",
       "      <td>Andorra</td>\n",
       "      <td>Europe</td>\n",
       "      <td>Southern Europe</td>\n",
       "    </tr>\n",
       "    <tr>\n",
       "      <th>1</th>\n",
       "      <td>2994701</td>\n",
       "      <td>Roc Mélé</td>\n",
       "      <td>Roc Mele</td>\n",
       "      <td>42.58765</td>\n",
       "      <td>1.74028</td>\n",
       "      <td>Europe/Andorra</td>\n",
       "      <td>Andorra</td>\n",
       "      <td>Europe</td>\n",
       "      <td>Southern Europe</td>\n",
       "    </tr>\n",
       "    <tr>\n",
       "      <th>2</th>\n",
       "      <td>3007683</td>\n",
       "      <td>Pic des Langounelles</td>\n",
       "      <td>Pic des Langounelles</td>\n",
       "      <td>42.61203</td>\n",
       "      <td>1.47364</td>\n",
       "      <td>Europe/Andorra</td>\n",
       "      <td>Andorra</td>\n",
       "      <td>Europe</td>\n",
       "      <td>Southern Europe</td>\n",
       "    </tr>\n",
       "    <tr>\n",
       "      <th>3</th>\n",
       "      <td>3017832</td>\n",
       "      <td>Pic de les Abelletes</td>\n",
       "      <td>Pic de les Abelletes</td>\n",
       "      <td>42.52535</td>\n",
       "      <td>1.73343</td>\n",
       "      <td>Europe/Andorra</td>\n",
       "      <td>Andorra</td>\n",
       "      <td>Europe</td>\n",
       "      <td>Southern Europe</td>\n",
       "    </tr>\n",
       "    <tr>\n",
       "      <th>4</th>\n",
       "      <td>3017833</td>\n",
       "      <td>Estany de les Abelletes</td>\n",
       "      <td>Estany de les Abelletes</td>\n",
       "      <td>42.52915</td>\n",
       "      <td>1.73362</td>\n",
       "      <td>Europe/Andorra</td>\n",
       "      <td>Andorra</td>\n",
       "      <td>Europe</td>\n",
       "      <td>Southern Europe</td>\n",
       "    </tr>\n",
       "  </tbody>\n",
       "</table>\n",
       "</div>"
      ],
      "text/plain": [
       "   geonameid                     name                asciiname  latitude  \\\n",
       "0    2986043       Pic de Font Blanca       Pic de Font Blanca  42.64991   \n",
       "1    2994701                 Roc Mélé                 Roc Mele  42.58765   \n",
       "2    3007683     Pic des Langounelles     Pic des Langounelles  42.61203   \n",
       "3    3017832     Pic de les Abelletes     Pic de les Abelletes  42.52535   \n",
       "4    3017833  Estany de les Abelletes  Estany de les Abelletes  42.52915   \n",
       "\n",
       "   longitude        timezone  country continent       sub_region  \n",
       "0    1.53335  Europe/Andorra  Andorra    Europe  Southern Europe  \n",
       "1    1.74028  Europe/Andorra  Andorra    Europe  Southern Europe  \n",
       "2    1.47364  Europe/Andorra  Andorra    Europe  Southern Europe  \n",
       "3    1.73343  Europe/Andorra  Andorra    Europe  Southern Europe  \n",
       "4    1.73362  Europe/Andorra  Andorra    Europe  Southern Europe  "
      ]
     },
     "execution_count": 17,
     "metadata": {},
     "output_type": "execute_result"
    }
   ],
   "source": [
    "data.head()"
   ]
  },
  {
   "cell_type": "code",
   "execution_count": 18,
   "id": "c32ac59d",
   "metadata": {
    "scrolled": false
   },
   "outputs": [
    {
     "data": {
      "text/plain": [
       "Dask Series Structure:\n",
       "npartitions=1\n",
       "    int64\n",
       "      ...\n",
       "Name: continent, dtype: int64\n",
       "Dask Name: value-counts-agg, 5 graph layers"
      ]
     },
     "execution_count": 18,
     "metadata": {},
     "output_type": "execute_result"
    }
   ],
   "source": [
    "data[\"continent\"].apply(type, meta=('continent', 'object')).value_counts()"
   ]
  },
  {
   "cell_type": "code",
   "execution_count": 19,
   "id": "87fa698e",
   "metadata": {},
   "outputs": [],
   "source": [
    "data['continent'] = data['continent'].astype(str)"
   ]
  },
  {
   "cell_type": "code",
   "execution_count": 20,
   "id": "6c54898c",
   "metadata": {},
   "outputs": [
    {
     "data": {
      "text/plain": [
       "Dask Series Structure:\n",
       "npartitions=1\n",
       "    int64\n",
       "      ...\n",
       "Name: continent, dtype: int64\n",
       "Dask Name: value-counts-agg, 8 graph layers"
      ]
     },
     "execution_count": 20,
     "metadata": {},
     "output_type": "execute_result"
    }
   ],
   "source": [
    "data[\"continent\"].apply(type, meta=('continent', 'object')).value_counts()"
   ]
  },
  {
   "cell_type": "code",
   "execution_count": 21,
   "id": "bbcc079d",
   "metadata": {
    "scrolled": true
   },
   "outputs": [],
   "source": [
    "data[\"name_clean\"] = data[\"name\"].apply(unidecode, meta=('name', 'object'))"
   ]
  },
  {
   "cell_type": "code",
   "execution_count": 30,
   "id": "ad3851d5",
   "metadata": {},
   "outputs": [],
   "source": [
    "def windowKey(data:pd.DataFrame, cols, methods, substring_length=3, upper=True):\n",
    "    \n",
    "    \"\"\"\n",
    "    Función encargada de generar una window key para los datos utilizando las\n",
    "    columnas y métodos especificados por el usuario.\n",
    "    \n",
    "    Argumentos:\n",
    "        data (DataFrame) dataframe que contiene la base de datos.\n",
    "        cols (lst) lista de columnas a utilizar para generar la window key.\n",
    "        methods (lst) lista de métodos a utilizar. Para soundex el método es\n",
    "            'sou' y para substring es 'sub'.\n",
    "        substring_length (int) número entero que nos indica la longitud que\n",
    "            tendrá el substring.\n",
    "        upper (bool) valor booleano que nos indica si el substring será en\n",
    "            minúscula o mayúscula.\n",
    "        \n",
    "    Regresa:\n",
    "        una lista que contiene las window keys generadas para el dataset en\n",
    "        cuestión.\n",
    "        \n",
    "    \"\"\"\n",
    "\n",
    "    func_dict = {i: [cols[i], methods[i]] for i in range(len(cols))}\n",
    "\n",
    "    windowKey = []\n",
    "\n",
    "    for i in range(len(func_dict)):\n",
    "        \n",
    "        if func_dict[i][1] == \"sou\":\n",
    "            soundex = np.vectorize(jellyfish.soundex)\n",
    "            windowKey.append(soundex(data[func_dict[i][0]].values))\n",
    "        if func_dict[i][1] == \"sub\":\n",
    "            if upper == True:\n",
    "                substring = np.vectorize(lambda x: x[:substring_length].replace(' ', '').upper() if (len(x) == substring_length) else (x[:substring_length].replace(' ', '').upper() + (' ' * (substring_length - len(x)))))\n",
    "                windowKey.append(substring(data[func_dict[i][0]].values))\n",
    "            else:\n",
    "                substring = np.vectorize(lambda x: x[:substring_length].replace(' ', '') if (len(x) == substring_length) else (x[:substring_length].replace(' ', '') + (' ' * (substring_length - len(x)))))\n",
    "                windowKey.append(substring(data[func_dict[i][0]].values))\n",
    "\n",
    "    return list(map(''.join, zip(*windowKey)))"
   ]
  },
  {
   "cell_type": "code",
   "execution_count": 31,
   "id": "e440060f",
   "metadata": {},
   "outputs": [],
   "source": [
    "#Aplicacion de la funcion y agregado de la nueva columna WindowKey\n",
    "mylist = windowKey(data, [\"country\", \"continent\",\"name_clean\"], [\"sou\", \"sub\", \"sou\"], 3)\n",
    "\n",
    "chunks = data.map_partitions(lambda x: len(x)).compute().to_numpy()\n",
    "\n",
    "myarray = da.from_array(mylist, chunks=tuple(chunks))\n",
    "\n",
    "data['WindowKey'] = myarray"
   ]
  },
  {
   "cell_type": "code",
   "execution_count": 32,
   "id": "81c35306",
   "metadata": {},
   "outputs": [],
   "source": [
    "#ordenamiento\n",
    "data_order = data.sort_values('WindowKey')  "
   ]
  },
  {
   "cell_type": "code",
   "execution_count": 33,
   "id": "c7f139f6",
   "metadata": {},
   "outputs": [
    {
     "data": {
      "text/html": [
       "<div>\n",
       "<style scoped>\n",
       "    .dataframe tbody tr th:only-of-type {\n",
       "        vertical-align: middle;\n",
       "    }\n",
       "\n",
       "    .dataframe tbody tr th {\n",
       "        vertical-align: top;\n",
       "    }\n",
       "\n",
       "    .dataframe thead th {\n",
       "        text-align: right;\n",
       "    }\n",
       "</style>\n",
       "<table border=\"1\" class=\"dataframe\">\n",
       "  <thead>\n",
       "    <tr style=\"text-align: right;\">\n",
       "      <th></th>\n",
       "      <th>geonameid</th>\n",
       "      <th>name</th>\n",
       "      <th>asciiname</th>\n",
       "      <th>latitude</th>\n",
       "      <th>longitude</th>\n",
       "      <th>timezone</th>\n",
       "      <th>country</th>\n",
       "      <th>continent</th>\n",
       "      <th>sub_region</th>\n",
       "      <th>name_clean</th>\n",
       "      <th>WindowKey</th>\n",
       "    </tr>\n",
       "  </thead>\n",
       "  <tbody>\n",
       "    <tr>\n",
       "      <th>68317</th>\n",
       "      <td>1466558</td>\n",
       "      <td>‘Ayūbzī</td>\n",
       "      <td>`Ayubzi</td>\n",
       "      <td>31.52982</td>\n",
       "      <td>65.37070</td>\n",
       "      <td>Asia/Kabul</td>\n",
       "      <td>Afghanistan</td>\n",
       "      <td>Asia</td>\n",
       "      <td>Southern Asia</td>\n",
       "      <td>'Ayubzi</td>\n",
       "      <td>A125ASI'120</td>\n",
       "    </tr>\n",
       "    <tr>\n",
       "      <th>38536</th>\n",
       "      <td>1149672</td>\n",
       "      <td>‘Abbās</td>\n",
       "      <td>'Abbas</td>\n",
       "      <td>33.33300</td>\n",
       "      <td>67.64328</td>\n",
       "      <td>Asia/Kabul</td>\n",
       "      <td>Afghanistan</td>\n",
       "      <td>Asia</td>\n",
       "      <td>Southern Asia</td>\n",
       "      <td>'Abbas</td>\n",
       "      <td>A125ASI'120</td>\n",
       "    </tr>\n",
       "    <tr>\n",
       "      <th>75489</th>\n",
       "      <td>1474164</td>\n",
       "      <td>‘Abbās Ghar</td>\n",
       "      <td>'Abbas Ghar</td>\n",
       "      <td>34.89766</td>\n",
       "      <td>70.96439</td>\n",
       "      <td>Asia/Kabul</td>\n",
       "      <td>Afghanistan</td>\n",
       "      <td>Asia</td>\n",
       "      <td>Southern Asia</td>\n",
       "      <td>'Abbas Ghar</td>\n",
       "      <td>A125ASI'122</td>\n",
       "    </tr>\n",
       "    <tr>\n",
       "      <th>46810</th>\n",
       "      <td>1433877</td>\n",
       "      <td>‘Abbās Khān Kalā</td>\n",
       "      <td>'Abbas Khan Kala</td>\n",
       "      <td>32.50398</td>\n",
       "      <td>69.20979</td>\n",
       "      <td>Asia/Kabul</td>\n",
       "      <td>Afghanistan</td>\n",
       "      <td>Asia</td>\n",
       "      <td>Southern Asia</td>\n",
       "      <td>'Abbas Khan Kala</td>\n",
       "      <td>A125ASI'122</td>\n",
       "    </tr>\n",
       "    <tr>\n",
       "      <th>46876</th>\n",
       "      <td>1433943</td>\n",
       "      <td>‘Abbās Khēl-e Junūbī</td>\n",
       "      <td>'Abbas Khel-e Junubi</td>\n",
       "      <td>32.67188</td>\n",
       "      <td>69.13467</td>\n",
       "      <td>Asia/Kabul</td>\n",
       "      <td>Afghanistan</td>\n",
       "      <td>Asia</td>\n",
       "      <td>Southern Asia</td>\n",
       "      <td>'Abbas Khel-e Junubi</td>\n",
       "      <td>A125ASI'122</td>\n",
       "    </tr>\n",
       "  </tbody>\n",
       "</table>\n",
       "</div>"
      ],
      "text/plain": [
       "       geonameid                  name             asciiname  latitude  \\\n",
       "68317    1466558               ‘Ayūbzī               `Ayubzi  31.52982   \n",
       "38536    1149672                ‘Abbās                'Abbas  33.33300   \n",
       "75489    1474164           ‘Abbās Ghar           'Abbas Ghar  34.89766   \n",
       "46810    1433877      ‘Abbās Khān Kalā      'Abbas Khan Kala  32.50398   \n",
       "46876    1433943  ‘Abbās Khēl-e Junūbī  'Abbas Khel-e Junubi  32.67188   \n",
       "\n",
       "       longitude    timezone      country continent     sub_region  \\\n",
       "68317   65.37070  Asia/Kabul  Afghanistan      Asia  Southern Asia   \n",
       "38536   67.64328  Asia/Kabul  Afghanistan      Asia  Southern Asia   \n",
       "75489   70.96439  Asia/Kabul  Afghanistan      Asia  Southern Asia   \n",
       "46810   69.20979  Asia/Kabul  Afghanistan      Asia  Southern Asia   \n",
       "46876   69.13467  Asia/Kabul  Afghanistan      Asia  Southern Asia   \n",
       "\n",
       "                 name_clean    WindowKey  \n",
       "68317               'Ayubzi  A125ASI'120  \n",
       "38536                'Abbas  A125ASI'120  \n",
       "75489           'Abbas Ghar  A125ASI'122  \n",
       "46810      'Abbas Khan Kala  A125ASI'122  \n",
       "46876  'Abbas Khel-e Junubi  A125ASI'122  "
      ]
     },
     "execution_count": 33,
     "metadata": {},
     "output_type": "execute_result"
    }
   ],
   "source": [
    "data_order.head()"
   ]
  }
 ],
 "metadata": {
  "kernelspec": {
   "display_name": "Python 3.10.4 64-bit",
   "language": "python",
   "name": "python3"
  },
  "language_info": {
   "codemirror_mode": {
    "name": "ipython",
    "version": 3
   },
   "file_extension": ".py",
   "mimetype": "text/x-python",
   "name": "python",
   "nbconvert_exporter": "python",
   "pygments_lexer": "ipython3",
   "version": "3.10.4"
  },
  "vscode": {
   "interpreter": {
    "hash": "d3e10ef16274dd72e574b8fa73b58450b957d8421a2901baded3cca26fcf5dda"
   }
  }
 },
 "nbformat": 4,
 "nbformat_minor": 5
}
